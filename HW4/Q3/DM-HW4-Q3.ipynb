{
 "cells": [
  {
   "cell_type": "markdown",
   "metadata": {},
   "source": [
    "# Data mining HW4"
   ]
  },
  {
   "cell_type": "markdown",
   "metadata": {},
   "source": [
    "author: Ali ArjomandBigdeli (Student Number: 9423008)"
   ]
  },
  {
   "cell_type": "markdown",
   "metadata": {},
   "source": [
    "## Question 3: Comparing implementation of fully connected NN VS. CNN in classifying MNIST"
   ]
  },
  {
   "cell_type": "markdown",
   "metadata": {},
   "source": [
    "## Fully connected NN"
   ]
  },
  {
   "cell_type": "code",
   "execution_count": 1,
   "metadata": {},
   "outputs": [
    {
     "name": "stderr",
     "output_type": "stream",
     "text": [
      "Using TensorFlow backend.\n"
     ]
    }
   ],
   "source": [
    "from keras.datasets import mnist\n",
    "from keras.preprocessing.image import load_img, array_to_img\n",
    "from keras.utils.np_utils import to_categorical\n",
    "from keras.models import Sequential\n",
    "from keras.layers import Dense\n",
    "\n",
    "import numpy as np\n",
    "import pandas as pd"
   ]
  },
  {
   "cell_type": "code",
   "execution_count": 2,
   "metadata": {},
   "outputs": [],
   "source": [
    "(X_train, Y_train),(X_test, Y_test) = mnist.load_data()"
   ]
  },
  {
   "cell_type": "code",
   "execution_count": 3,
   "metadata": {},
   "outputs": [
    {
     "name": "stdout",
     "output_type": "stream",
     "text": [
      "(60000, 28, 28)\n",
      "(60000,)\n",
      "(10000, 28, 28)\n",
      "(10000,)\n"
     ]
    }
   ],
   "source": [
    "print(X_train.shape)\n",
    "print(Y_train.shape)\n",
    "print(X_test.shape)\n",
    "print(Y_test.shape)"
   ]
  },
  {
   "cell_type": "markdown",
   "metadata": {},
   "source": [
    "### Preprocessing the image data"
   ]
  },
  {
   "cell_type": "code",
   "execution_count": 4,
   "metadata": {},
   "outputs": [],
   "source": [
    "image_height, image_width = 28, 28"
   ]
  },
  {
   "cell_type": "code",
   "execution_count": 5,
   "metadata": {},
   "outputs": [
    {
     "name": "stdout",
     "output_type": "stream",
     "text": [
      "(60000, 784)\n",
      "(10000, 784)\n"
     ]
    }
   ],
   "source": [
    "X_train = X_train.reshape(60000, image_height * image_width)\n",
    "X_test = X_test.reshape(10000, image_height * image_width)\n",
    "print(X_train.shape)\n",
    "print(X_test.shape)"
   ]
  },
  {
   "cell_type": "code",
   "execution_count": 6,
   "metadata": {},
   "outputs": [],
   "source": [
    "# rescale our data\n",
    "X_train = X_train.astype('float32')\n",
    "X_test = X_test.astype('float32')\n",
    "X_train /= 255.0\n",
    "X_test /= 255.0"
   ]
  },
  {
   "cell_type": "code",
   "execution_count": 7,
   "metadata": {},
   "outputs": [
    {
     "name": "stdout",
     "output_type": "stream",
     "text": [
      "(60000, 10)\n",
      "(10000, 10)\n"
     ]
    }
   ],
   "source": [
    "Y_train = to_categorical(Y_train, 10)\n",
    "Y_test = to_categorical(Y_test, 10)\n",
    "print(Y_train.shape)\n",
    "print(Y_test.shape)"
   ]
  },
  {
   "cell_type": "markdown",
   "metadata": {},
   "source": [
    "### Building keras model"
   ]
  },
  {
   "cell_type": "markdown",
   "metadata": {},
   "source": [
    "### Network Architecture:\n",
    "\n",
    "![FullyConnectedNN_MNIST](img/FullyNN_MNIST.JPG)"
   ]
  },
  {
   "cell_type": "code",
   "execution_count": 8,
   "metadata": {},
   "outputs": [],
   "source": [
    "model = Sequential()"
   ]
  },
  {
   "cell_type": "code",
   "execution_count": 9,
   "metadata": {},
   "outputs": [],
   "source": [
    "model.add(Dense(512, activation= 'relu', input_shape=(784,)))\n",
    "model.add(Dense(512, activation= 'relu'))\n",
    "model.add(Dense(10, activation= 'softmax'))"
   ]
  },
  {
   "cell_type": "markdown",
   "metadata": {},
   "source": [
    "### Compile the model"
   ]
  },
  {
   "cell_type": "code",
   "execution_count": 10,
   "metadata": {},
   "outputs": [],
   "source": [
    "model.compile(optimizer='adam', loss='categorical_crossentropy', metrics=['accuracy'])"
   ]
  },
  {
   "cell_type": "code",
   "execution_count": 11,
   "metadata": {},
   "outputs": [
    {
     "name": "stdout",
     "output_type": "stream",
     "text": [
      "Model: \"sequential_1\"\n",
      "_________________________________________________________________\n",
      "Layer (type)                 Output Shape              Param #   \n",
      "=================================================================\n",
      "dense_1 (Dense)              (None, 512)               401920    \n",
      "_________________________________________________________________\n",
      "dense_2 (Dense)              (None, 512)               262656    \n",
      "_________________________________________________________________\n",
      "dense_3 (Dense)              (None, 10)                5130      \n",
      "=================================================================\n",
      "Total params: 669,706\n",
      "Trainable params: 669,706\n",
      "Non-trainable params: 0\n",
      "_________________________________________________________________\n"
     ]
    }
   ],
   "source": [
    "model.summary()"
   ]
  },
  {
   "cell_type": "markdown",
   "metadata": {},
   "source": [
    "### Train the model"
   ]
  },
  {
   "cell_type": "code",
   "execution_count": 12,
   "metadata": {},
   "outputs": [
    {
     "name": "stdout",
     "output_type": "stream",
     "text": [
      "Train on 60000 samples, validate on 10000 samples\n",
      "Epoch 1/20\n",
      "60000/60000 [==============================] - 26s 428us/step - loss: 0.1839 - accuracy: 0.9446 - val_loss: 0.1009 - val_accuracy: 0.9677\n",
      "Epoch 2/20\n",
      "60000/60000 [==============================] - 24s 392us/step - loss: 0.0806 - accuracy: 0.9748 - val_loss: 0.0770 - val_accuracy: 0.9759\n",
      "Epoch 3/20\n",
      "60000/60000 [==============================] - 23s 390us/step - loss: 0.0566 - accuracy: 0.9821 - val_loss: 0.0780 - val_accuracy: 0.9778\n",
      "Epoch 4/20\n",
      "60000/60000 [==============================] - 24s 399us/step - loss: 0.0432 - accuracy: 0.9858 - val_loss: 0.0802 - val_accuracy: 0.9781\n",
      "Epoch 5/20\n",
      "60000/60000 [==============================] - 24s 396us/step - loss: 0.0343 - accuracy: 0.9889 - val_loss: 0.0709 - val_accuracy: 0.9807\n",
      "Epoch 6/20\n",
      "60000/60000 [==============================] - 24s 403us/step - loss: 0.0294 - accuracy: 0.9910 - val_loss: 0.0940 - val_accuracy: 0.9771\n",
      "Epoch 7/20\n",
      "60000/60000 [==============================] - 24s 397us/step - loss: 0.0276 - accuracy: 0.9912 - val_loss: 0.0805 - val_accuracy: 0.9809\n",
      "Epoch 8/20\n",
      "60000/60000 [==============================] - 25s 422us/step - loss: 0.0204 - accuracy: 0.9936 - val_loss: 0.0962 - val_accuracy: 0.9789\n",
      "Epoch 9/20\n",
      "60000/60000 [==============================] - 26s 436us/step - loss: 0.0200 - accuracy: 0.9937 - val_loss: 0.1020 - val_accuracy: 0.9783\n",
      "Epoch 10/20\n",
      "60000/60000 [==============================] - 24s 403us/step - loss: 0.0192 - accuracy: 0.9945 - val_loss: 0.1062 - val_accuracy: 0.9788\n",
      "Epoch 11/20\n",
      "60000/60000 [==============================] - 24s 402us/step - loss: 0.0180 - accuracy: 0.9942 - val_loss: 0.1053 - val_accuracy: 0.9788\n",
      "Epoch 12/20\n",
      "60000/60000 [==============================] - 24s 398us/step - loss: 0.0165 - accuracy: 0.9956 - val_loss: 0.1117 - val_accuracy: 0.9793\n",
      "Epoch 13/20\n",
      "60000/60000 [==============================] - 24s 399us/step - loss: 0.0138 - accuracy: 0.9958 - val_loss: 0.1511 - val_accuracy: 0.9746\n",
      "Epoch 14/20\n",
      "60000/60000 [==============================] - 24s 399us/step - loss: 0.0165 - accuracy: 0.9957 - val_loss: 0.1290 - val_accuracy: 0.9801\n",
      "Epoch 15/20\n",
      "60000/60000 [==============================] - 23s 390us/step - loss: 0.0138 - accuracy: 0.9965 - val_loss: 0.1140 - val_accuracy: 0.9807\n",
      "Epoch 16/20\n",
      "60000/60000 [==============================] - 23s 387us/step - loss: 0.0186 - accuracy: 0.9949 - val_loss: 0.1101 - val_accuracy: 0.9802\n",
      "Epoch 17/20\n",
      "60000/60000 [==============================] - 23s 383us/step - loss: 0.0094 - accuracy: 0.9972 - val_loss: 0.1691 - val_accuracy: 0.9776\n",
      "Epoch 18/20\n",
      "60000/60000 [==============================] - 23s 389us/step - loss: 0.0170 - accuracy: 0.9955 - val_loss: 0.1128 - val_accuracy: 0.9804\n",
      "Epoch 19/20\n",
      "60000/60000 [==============================] - 23s 383us/step - loss: 0.0110 - accuracy: 0.9970 - val_loss: 0.1457 - val_accuracy: 0.9781\n",
      "Epoch 20/20\n",
      "60000/60000 [==============================] - 23s 386us/step - loss: 0.0129 - accuracy: 0.9967 - val_loss: 0.1512 - val_accuracy: 0.9803\n"
     ]
    }
   ],
   "source": [
    "history = model.fit(X_train, Y_train, epochs=20, validation_data=(X_test, Y_test))"
   ]
  },
  {
   "cell_type": "markdown",
   "metadata": {},
   "source": [
    "### Evaluating the model"
   ]
  },
  {
   "cell_type": "code",
   "execution_count": 13,
   "metadata": {},
   "outputs": [
    {
     "name": "stdout",
     "output_type": "stream",
     "text": [
      "10000/10000 [==============================] - 1s 69us/step\n"
     ]
    }
   ],
   "source": [
    "score = model.evaluate(X_test, Y_test)"
   ]
  },
  {
   "cell_type": "code",
   "execution_count": 14,
   "metadata": {},
   "outputs": [
    {
     "data": {
      "text/plain": [
       "[0.15124783596569877, 0.9803000092506409]"
      ]
     },
     "execution_count": 14,
     "metadata": {},
     "output_type": "execute_result"
    }
   ],
   "source": [
    "score"
   ]
  },
  {
   "cell_type": "markdown",
   "metadata": {},
   "source": [
    "## CNN"
   ]
  },
  {
   "cell_type": "markdown",
   "metadata": {},
   "source": [
    "### Network Architecture:\n",
    "\n",
    "![CNN_Arch_MNIST](img/CNN_Arch_MNIST.JPG)"
   ]
  },
  {
   "cell_type": "code",
   "execution_count": 15,
   "metadata": {},
   "outputs": [],
   "source": [
    "from keras.layers import Conv2D, MaxPooling2D, Flatten, Dense\n",
    "from keras.models import Sequential\n",
    "from keras.datasets import mnist\n",
    "from keras.utils.np_utils import to_categorical"
   ]
  },
  {
   "cell_type": "markdown",
   "metadata": {},
   "source": [
    "### load data"
   ]
  },
  {
   "cell_type": "code",
   "execution_count": 16,
   "metadata": {},
   "outputs": [],
   "source": [
    "(X_train, Y_train),(X_test, Y_test) = mnist.load_data()"
   ]
  },
  {
   "cell_type": "code",
   "execution_count": 17,
   "metadata": {},
   "outputs": [
    {
     "name": "stdout",
     "output_type": "stream",
     "text": [
      "(60000, 28, 28)\n",
      "(60000,)\n",
      "(10000, 28, 28)\n",
      "(10000,)\n"
     ]
    }
   ],
   "source": [
    "print(X_train.shape)\n",
    "print(Y_train.shape)\n",
    "print(X_test.shape)\n",
    "print(Y_test.shape)"
   ]
  },
  {
   "cell_type": "markdown",
   "metadata": {},
   "source": [
    "### Pre-processing"
   ]
  },
  {
   "cell_type": "code",
   "execution_count": 18,
   "metadata": {},
   "outputs": [],
   "source": [
    "num_classes = 10\n",
    "epochs = 3\n",
    "\n",
    "X_train = X_train.reshape(60000, 28, 28, 1)\n",
    "X_test = X_test.reshape(10000, 28, 28, 1)\n",
    "X_train = X_train.astype('float32')\n",
    "X_test = X_test.astype('float32')\n",
    "X_train /= 255.0\n",
    "X_test /= 255.0\n",
    "Y_train = to_categorical(Y_train, num_classes)\n",
    "Y_test = to_categorical(Y_test, num_classes)"
   ]
  },
  {
   "cell_type": "code",
   "execution_count": 19,
   "metadata": {},
   "outputs": [
    {
     "name": "stdout",
     "output_type": "stream",
     "text": [
      "(60000, 28, 28, 1)\n",
      "(60000, 10)\n",
      "(10000, 28, 28, 1)\n",
      "(10000, 10)\n"
     ]
    }
   ],
   "source": [
    "print(X_train.shape)\n",
    "print(Y_train.shape)\n",
    "print(X_test.shape)\n",
    "print(Y_test.shape)"
   ]
  },
  {
   "cell_type": "markdown",
   "metadata": {},
   "source": [
    "### Create and Compile the model"
   ]
  },
  {
   "cell_type": "code",
   "execution_count": 20,
   "metadata": {},
   "outputs": [],
   "source": [
    "cnn = Sequential()"
   ]
  },
  {
   "cell_type": "code",
   "execution_count": 21,
   "metadata": {},
   "outputs": [],
   "source": [
    "cnn.add(Conv2D(32, kernel_size=(5,5), input_shape=(28,28,1), padding='same', activation='relu'))"
   ]
  },
  {
   "cell_type": "code",
   "execution_count": 22,
   "metadata": {},
   "outputs": [],
   "source": [
    "cnn.add(MaxPooling2D())"
   ]
  },
  {
   "cell_type": "code",
   "execution_count": 23,
   "metadata": {},
   "outputs": [],
   "source": [
    "cnn.add(Conv2D(64, kernel_size=(5,5), padding='same', activation='relu'))"
   ]
  },
  {
   "cell_type": "code",
   "execution_count": 24,
   "metadata": {},
   "outputs": [],
   "source": [
    "cnn.add(MaxPooling2D())"
   ]
  },
  {
   "cell_type": "code",
   "execution_count": 25,
   "metadata": {},
   "outputs": [],
   "source": [
    "cnn.add(Flatten())"
   ]
  },
  {
   "cell_type": "code",
   "execution_count": 26,
   "metadata": {},
   "outputs": [],
   "source": [
    "cnn.add(Dense(1024, activation='relu'))"
   ]
  },
  {
   "cell_type": "code",
   "execution_count": 27,
   "metadata": {},
   "outputs": [],
   "source": [
    "cnn.add(Dense(10, activation='softmax'))"
   ]
  },
  {
   "cell_type": "code",
   "execution_count": 28,
   "metadata": {},
   "outputs": [],
   "source": [
    "cnn.compile(optimizer='adam', loss='categorical_crossentropy', metrics=['accuracy'])"
   ]
  },
  {
   "cell_type": "code",
   "execution_count": 29,
   "metadata": {},
   "outputs": [
    {
     "name": "stdout",
     "output_type": "stream",
     "text": [
      "Model: \"sequential_2\"\n",
      "_________________________________________________________________\n",
      "Layer (type)                 Output Shape              Param #   \n",
      "=================================================================\n",
      "conv2d_1 (Conv2D)            (None, 28, 28, 32)        832       \n",
      "_________________________________________________________________\n",
      "max_pooling2d_1 (MaxPooling2 (None, 14, 14, 32)        0         \n",
      "_________________________________________________________________\n",
      "conv2d_2 (Conv2D)            (None, 14, 14, 64)        51264     \n",
      "_________________________________________________________________\n",
      "max_pooling2d_2 (MaxPooling2 (None, 7, 7, 64)          0         \n",
      "_________________________________________________________________\n",
      "flatten_1 (Flatten)          (None, 3136)              0         \n",
      "_________________________________________________________________\n",
      "dense_4 (Dense)              (None, 1024)              3212288   \n",
      "_________________________________________________________________\n",
      "dense_5 (Dense)              (None, 10)                10250     \n",
      "=================================================================\n",
      "Total params: 3,274,634\n",
      "Trainable params: 3,274,634\n",
      "Non-trainable params: 0\n",
      "_________________________________________________________________\n",
      "None\n"
     ]
    }
   ],
   "source": [
    "print(cnn.summary())"
   ]
  },
  {
   "cell_type": "markdown",
   "metadata": {},
   "source": [
    "### Train the model"
   ]
  },
  {
   "cell_type": "code",
   "execution_count": 30,
   "metadata": {},
   "outputs": [
    {
     "name": "stdout",
     "output_type": "stream",
     "text": [
      "Train on 60000 samples, validate on 10000 samples\n",
      "Epoch 1/5\n",
      "60000/60000 [==============================] - 216s 4ms/step - loss: 0.0975 - accuracy: 0.9691 - val_loss: 0.0342 - val_accuracy: 0.9896\n",
      "Epoch 2/5\n",
      "60000/60000 [==============================] - 216s 4ms/step - loss: 0.0347 - accuracy: 0.9889 - val_loss: 0.0281 - val_accuracy: 0.9898\n",
      "Epoch 3/5\n",
      "60000/60000 [==============================] - 219s 4ms/step - loss: 0.0237 - accuracy: 0.9925 - val_loss: 0.0377 - val_accuracy: 0.9886\n",
      "Epoch 4/5\n",
      "60000/60000 [==============================] - 223s 4ms/step - loss: 0.0184 - accuracy: 0.9942 - val_loss: 0.0266 - val_accuracy: 0.9925\n",
      "Epoch 5/5\n",
      "60000/60000 [==============================] - 221s 4ms/step - loss: 0.0136 - accuracy: 0.9956 - val_loss: 0.0294 - val_accuracy: 0.9924\n"
     ]
    }
   ],
   "source": [
    "history_cnn = cnn.fit(X_train, Y_train, epochs=5, verbose=1, validation_data=(X_test, Y_test))"
   ]
  },
  {
   "cell_type": "code",
   "execution_count": 31,
   "metadata": {},
   "outputs": [],
   "source": [
    "cnn.save_weights('cnn-model.h5')\n",
    "# cnn.load_weights('cnn-model.h5')"
   ]
  },
  {
   "cell_type": "code",
   "execution_count": 32,
   "metadata": {},
   "outputs": [
    {
     "name": "stdout",
     "output_type": "stream",
     "text": [
      "10000/10000 [==============================] - 9s 858us/step\n"
     ]
    }
   ],
   "source": [
    "score = cnn.evaluate(X_test, Y_test)"
   ]
  },
  {
   "cell_type": "code",
   "execution_count": 33,
   "metadata": {},
   "outputs": [
    {
     "data": {
      "text/plain": [
       "[0.029352097202170854, 0.9923999905586243]"
      ]
     },
     "execution_count": 33,
     "metadata": {},
     "output_type": "execute_result"
    }
   ],
   "source": [
    "score"
   ]
  },
  {
   "cell_type": "markdown",
   "metadata": {},
   "source": [
    "## Compare two model"
   ]
  },
  {
   "cell_type": "markdown",
   "metadata": {},
   "source": [
    "we obtain 99.23\n",
    "% accuracy by CNN model with 5 epochs, while we obtain 98.03% accuracy by FC model with 20 epochs. This happends because CNN by using conv and pooling layers selects better features than Fully Connected network."
   ]
  }
 ],
 "metadata": {
  "kernelspec": {
   "display_name": "Python 3",
   "language": "python",
   "name": "python3"
  },
  "language_info": {
   "codemirror_mode": {
    "name": "ipython",
    "version": 3
   },
   "file_extension": ".py",
   "mimetype": "text/x-python",
   "name": "python",
   "nbconvert_exporter": "python",
   "pygments_lexer": "ipython3",
   "version": "3.7.6"
  }
 },
 "nbformat": 4,
 "nbformat_minor": 2
}
