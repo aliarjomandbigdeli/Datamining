{
 "cells": [
  {
   "cell_type": "markdown",
   "metadata": {},
   "source": [
    "# Data mining HW2"
   ]
  },
  {
   "cell_type": "markdown",
   "metadata": {},
   "source": [
    "author: Ali ArjomandBigdeli (Student Number: 9423008)"
   ]
  },
  {
   "cell_type": "markdown",
   "metadata": {},
   "source": [
    "## Question 1: Apriori diff. FP-Growth"
   ]
  },
  {
   "attachments": {},
   "cell_type": "markdown",
   "metadata": {},
   "source": [
    "### Apriori:\n",
    "\n",
    "Apriori employs an iterative approach known as a level-wise search, where k-itemsets are used to explore (k+1)-itemsets. First, the set of frequent 1-itemsets is found by scanning the database to accumulate the count for each item, and collecting those items that satisfy minimum support. The resulting set is denoted by L1. Next, L1 is used to find L2, the set of frequent 2-itemsets, which is used to find L3, and so on, until no more frequent k-itemsets can be found. The finding of each Lk requires one full scan of the database.\n",
    "\n",
    "To improve the efficiency of the level-wise generation of frequent itemsets, an important property called the Apriori property is used to reduce the search space.\n",
    "- If there is any itemset which is infrequent, its superset should not be generated/tested.\n",
    "\n",
    "### FP-Growth:\n",
    "\n",
    "First, it compresses the database representing frequent items into a frequent pattern tree, or FP-tree, which retains the itemset association information. It then divides the compressed database into a set of conditional databases (a special kind of projected database), each associated with one frequent item or “pattern fragment,” and mines each database separately. For each “pattern fragment,” only its associated data sets need to be examined. Therefore, this approach may substantially reduce the size of the data sets to be searched, along with the “growth” of patterns being examined.\n",
    "\n",
    "#### Apriori VS. FP-Growth:\n",
    "\n",
    "Apriori approach\n",
    "- Breadth-first (i.e., level-wise) search\n",
    "- Candidate generation and test(Often generates a huge number of candidates)\n",
    "\n",
    "The FPGrowth Approach\n",
    "- Depth-first search\n",
    "- Avoid explicit candidate generation"
   ]
  },
  {
   "cell_type": "markdown",
   "metadata": {},
   "source": [
    "## Question 2: apply Apriori and FP-Growth to the table of transactions to find all association rules\n",
    "\n",
    "#### sup_min = 2, conf_min = 0.7\n",
    "\n",
    "|  TID |  Items  |\n",
    "|------|-----------------|\n",
    "|  T1  | A, C, D   |\n",
    "|------|-----------------|\n",
    "|  T2  | A, B, C, E |\n",
    "|------|-----------------|\n",
    "|  T3  | E, B, C |\n",
    "|------|-----------------|\n",
    "|  T4  | B, E |\n",
    "|------|-----------------|\n",
    "|  T5  | A, F, B, C |"
   ]
  },
  {
   "cell_type": "markdown",
   "metadata": {},
   "source": [
    "### Apriori:\n",
    "\n",
    "**1st scan**\n",
    "\n",
    "| Itemset |  sup  |    \n",
    "|---------|-------|\n",
    "|  {A}    |   3   |\n",
    "|---------|-------|\n",
    "|  {B}    |   4   |\n",
    "|---------|-------|\n",
    "|  {C}    |   4   |\n",
    "|---------|-------|\n",
    "|  {D}    |   <font color='red'>1</font>   |\n",
    "|---------|-------|\n",
    "|  {E}    |   2   |\n",
    "|---------|-------|\n",
    "|  {F}    |   <font color='red'>1</font>   |\n",
    "\n",
    "\n",
    "**2nd scan**\n",
    "\n",
    "| Itemset |  sup  |    \n",
    "|---------|-------|\n",
    "|  {A,B}  |   2   |\n",
    "|---------|-------|\n",
    "|  {A,C}  |   3   |\n",
    "|---------|-------|\n",
    "|  {A,E}  |   <font color='red'>1</font>   |\n",
    "|---------|-------|\n",
    "|  {B,C}  |   3   |\n",
    "|---------|-------|\n",
    "|  {B,E}  |   3   |\n",
    "|---------|-------|\n",
    "|  {C,E}  |   2   |\n",
    "\n",
    "**3rd scan**\n",
    "\n",
    "| Itemset |  sup  |    \n",
    "|---------|-------|\n",
    "| {A,B,C} |   2   |\n",
    "|---------|-------|\n",
    "| {B,C,E} |   2   |"
   ]
  },
  {
   "cell_type": "markdown",
   "metadata": {},
   "source": [
    "### FP-Growth:\n",
    "\n",
    "![title](img/FPGrowth.jpg)"
   ]
  },
  {
   "cell_type": "markdown",
   "metadata": {},
   "source": [
    "### Rules of {A,B,C}:\n",
    "\n",
    "**AB -> C**\n",
    "\n",
    "conf = $\\frac{2}{2}$ = 1 > 0.7 -> good rule \n",
    "\n",
    "lift = $\\frac{\\frac{2}{5}}{\\frac{2}{5} \\times \\frac{4}{5}} = \\frac{5}{4}$ > 1 -> good rule\n",
    "\n",
    "\n",
    "**AC -> B**\n",
    "\n",
    "conf = $\\frac{2}{3}$ < 0.7\n",
    "\n",
    "\n",
    "**BC -> A**\n",
    "\n",
    "conf = $\\frac{2}{3}$ < 0.7 \n",
    "\n",
    "\n",
    "**A -> BC**\n",
    "\n",
    "conf = $\\frac{2}{3}$ < 0.7 \n",
    "\n",
    "**B -> AC**\n",
    "\n",
    "conf = $\\frac{2}{4}$ < 0.7\n",
    "\n",
    "### Rules of {B,C,E}:\n",
    "\n",
    "**BC -> E**\n",
    "\n",
    "conf = $\\frac{2}{3}$ < 0.7\n",
    "\n",
    "\n",
    "**BE -> C**\n",
    "\n",
    "conf = $\\frac{2}{3}$ < 0.7\n",
    "\n",
    "\n",
    "**CE -> B**\n",
    "\n",
    "conf = $\\frac{2}{2}$ = 1 > 0.7 -> good rule \n",
    "\n",
    "lift = $\\frac{\\frac{2}{5}}{\\frac{2}{5} \\times \\frac{4}{5}} = \\frac{5}{4}$ > 1 -> good rule\n",
    "\n",
    "### Rules of {A,C}:\n",
    "\n",
    "**A -> C**\n",
    "\n",
    "conf = $\\frac{3}{3}$ = 1 > 0.7 -> good rule \n",
    "\n",
    "lift = $\\frac{\\frac{3}{5}}{\\frac{3}{5} \\times \\frac{4}{5}} = \\frac{5}{4}$ > 1 -> good rule\n",
    "\n",
    "\n",
    "**C -> A**\n",
    "\n",
    "conf = $\\frac{3}{4}$ = 0.75 > 0.7 -> good rule \n",
    "\n",
    "lift = $\\frac{\\frac{3}{5}}{\\frac{4}{5} \\times \\frac{3}{5}} = \\frac{5}{4}$ > 1 -> good rule\n",
    "\n",
    "### Rules of {A,B}:\n",
    "\n",
    "**A -> B**\n",
    "\n",
    "conf = $\\frac{2}{3}$ < 0.7\n",
    "\n",
    "\n",
    "**B -> A**\n",
    "\n",
    "conf = $\\frac{2}{4}$ < 0.7\n",
    "\n",
    "### Rules of {B,C}:\n",
    "\n",
    "**B -> C**\n",
    "\n",
    "conf = $\\frac{3}{4}$ = 0.75 > 0.7 -> good rule \n",
    "\n",
    "lift = $\\frac{\\frac{3}{5}}{\\frac{4}{5} \\times \\frac{4}{5}} = \\frac{15}{16}$ < 1 -> bad rule\n",
    "\n",
    "\n",
    "**C -> B**\n",
    "\n",
    "conf = $\\frac{3}{4}$ = 0.75 > 0.7 -> good rule \n",
    "\n",
    "lift = $\\frac{\\frac{3}{5}}{\\frac{4}{5} \\times \\frac{4}{5}} = \\frac{15}{16}$ < 1 -> bad rule\n",
    "\n",
    "### Rules of {B,E}:\n",
    "\n",
    "**B -> E**\n",
    "\n",
    "conf = $\\frac{3}{4}$ = 0.75 > 0.7 -> good rule \n",
    "\n",
    "lift = $\\frac{\\frac{3}{5}}{\\frac{4}{5} \\times \\frac{2}{5}} = \\frac{15}{8}$ > 1 -> good rule\n",
    "\n",
    "\n",
    "**E -> B**\n",
    "\n",
    "conf = $\\frac{3}{2}$ = 1.5 > 0.7 -> good rule \n",
    "\n",
    "lift = $\\frac{\\frac{3}{5}}{\\frac{4}{5} \\times \\frac{2}{5}} = \\frac{15}{8}$ > 1 -> good rule\n",
    "\n",
    "### Rules of {C,E}:\n",
    "\n",
    "**C -> E**\n",
    "\n",
    "conf = $\\frac{2}{4}$ < 0.7\n",
    "\n",
    "\n",
    "**E -> C**\n",
    "\n",
    "conf = $\\frac{2}{2}$ = 1 > 0.7 -> good rule \n",
    "\n",
    "lift = $\\frac{\\frac{2}{5}}{\\frac{4}{5} \\times \\frac{2}{5}} = \\frac{5}{4}$ > 1 -> good rule\n"
   ]
  },
  {
   "cell_type": "markdown",
   "metadata": {},
   "source": [
    "## Question 3: Apriori VS. FP-Growth time complexity by using weka"
   ]
  },
  {
   "cell_type": "markdown",
   "metadata": {},
   "source": [
    "I wrote the code in java using weka and save time rusults in 'times.txt' file"
   ]
  },
  {
   "cell_type": "code",
   "execution_count": 2,
   "metadata": {},
   "outputs": [
    {
     "data": {
      "image/png": "[encoded data removed]",
      "text/plain": [
       "<Figure size 576x396 with 1 Axes>"
      ]
     },
     "metadata": {},
     "output_type": "display_data"
    }
   ],
   "source": [
    "import matplotlib.pyplot as plt\n",
    "import numpy as np\n",
    "\n",
    "infile = open('times.txt')\n",
    "for index, line in enumerate(infile):\n",
    "    if index == 0:\n",
    "        min_sup_list = line.rstrip().split(\",\")\n",
    "        min_sup_list = np.array(min_sup_list[:-1]).astype(float)\n",
    "    if index == 1:\n",
    "        fp_growth_times = line.rstrip().split(\",\")\n",
    "        fp_growth_times = np.array(fp_growth_times[:-1]).astype(int)\n",
    "    if index == 2:\n",
    "        apriori_times = line.rstrip().split(\",\")\n",
    "        apriori_times = np.array(apriori_times[:-1]).astype(int)\n",
    "\n",
    "\n",
    "plt.style.use(\"seaborn\")\n",
    "plt.plot(min_sup_list, fp_growth_times, label=\"fp_growth\")\n",
    "plt.plot(min_sup_list, apriori_times, label=\"apriori\")\n",
    "plt.xlabel(\"min_support\")\n",
    "plt.ylabel(\"times(ms)\")\n",
    "plt.legend()\n",
    "plt.show()"
   ]
  }
 ],
 "metadata": {
  "kernelspec": {
   "display_name": "Python 3",
   "language": "python",
   "name": "python3"
  },
  "language_info": {
   "codemirror_mode": {
    "name": "ipython",
    "version": 3
   },
   "file_extension": ".py",
   "mimetype": "text/x-python",
   "name": "python",
   "nbconvert_exporter": "python",
   "pygments_lexer": "ipython3",
   "version": "3.7.4"
  }
 },
 "nbformat": 4,
 "nbformat_minor": 2
}
